{
 "cells": [
  {
   "cell_type": "markdown",
   "metadata": {},
   "source": [
    "**Общая информация**\n",
    "\n",
    "**Срок сдачи:** 18 октября 2017, 06:00 <br\\>\n",
    "**Штраф за опоздание:** -2 балла после 06:00 18 октября, -4 балла после 06:00 25 октября, -6 баллов после 06:00 1 ноября\n",
    "\n",
    "При отправлении ДЗ указывайте фамилию в названии файла\n",
    "Присылать ДЗ необходимо в виде ссылки на свой github репозиторий в slack @alkhamush\n",
    "\n",
    "Необходимо в slack создать таск в приватный чат:\n",
    "/todo Фамилия Имя ссылка на гитхаб @alkhamush\n",
    "Пример:\n",
    "/todo Ксения Стройкова https://github.com/stroykova/spheremailru/stroykova_hw1.ipynb @alkhamush\n",
    "Дополнительно нужно просто скинуть ссылку в slack в личный чат\n",
    "\n",
    "Используйте данный Ipython Notebook при оформлении домашнего задания."
   ]
  },
  {
   "cell_type": "markdown",
   "metadata": {},
   "source": [
    "###### Задание 1 (2 баллов)\n",
    "Реализовать KNN в классе MyKNeighborsClassifier (обязательное условие: точность не ниже sklearn реализации)\n",
    "Разберитесь самостоятельно, какая мера расстояния используется в KNeighborsClassifier дефолтно и реализуйте свой алгоритм именно с этой мерой. Самостоятельно разберитесь, как считается score из KNeighborsClassifier и реализуйте аналог в своём классе. Score не должен уступать значению KNN из sklearn\n",
    "\n",
    "###### Задание 2 (2 балла)\n",
    "Добиться скорости работы на fit,  predict и predict_proba сравнимой со sklearn для iris и mnist\n",
    "Для этого используем numpy\n",
    "\n",
    "###### Задание 3 (2 балла)\n",
    "Для iris найдите такой параметр n_neighbors, при котором выдаётся наилучший score. Нарисуйте график зависимости score от n_neighbors\n",
    "\n",
    "###### Задание 4 (3 балла)\n",
    "Добавить algorithm='kd_tree' в реализацию KNN (использовать KDTree из sklearn.neighbors). Значение n_neighbors нужно взять из задания 3. Добиться скорости работы на fit,  predict и predict_proba сравнимой со sklearn для iris и mnist\n",
    "Для этого используем numpy. Score не должен уступать значению KNN из sklearn\n",
    "\n",
    "###### Задание 5 (1 балла)\n",
    "Описать для чего нужны следующие библиотеки/классы/функции (список будет ниже)\n",
    "\n",
    "**Штрафные баллы:**\n",
    "\n",
    "1. Невыполнение PEP8 -1 балл\n",
    "2. Отсутствие фамилии в имени скрипта (скрипт должен называться по аналогии со stroykova_hw1.ipynb) -1 балл\n",
    "3. Все строчки должны быть выполнены. Нужно, чтобы output команды можно было увидеть уже в git'е. В противном случае -1 балл\n",
    "4. При оформлении ДЗ нужно пользоваться данным файлом в качестве шаблона. Не нужно удалять и видоизменять структуру кода и текст. В противном случае -1 балл\n"
   ]
  },
  {
   "cell_type": "code",
   "execution_count": 89,
   "metadata": {},
   "outputs": [
    {
     "name": "stdout",
     "output_type": "stream",
     "text": [
      "The pycodestyle_magic extension is already loaded. To reload it, use:\n",
      "  %reload_ext pycodestyle_magic\n"
     ]
    }
   ],
   "source": [
    "import numpy as np\n",
    "import matplotlib.pyplot as plt\n",
    "\n",
    "import seaborn as sns\n",
    "from sklearn import datasets\n",
    "from sklearn.base import ClassifierMixin\n",
    "from sklearn.datasets import fetch_mldata\n",
    "from sklearn.neighbors.base import NeighborsBase, KNeighborsMixin, SupervisedIntegerMixin \n",
    "from sklearn.model_selection import train_test_split\n",
    "from sklearn.neighbors import KNeighborsClassifier\n",
    "%load_ext pycodestyle_magic"
   ]
  },
  {
   "cell_type": "code",
   "execution_count": 95,
   "metadata": {},
   "outputs": [],
   "source": [
    "#%%pycodestyle\n",
    "\n",
    "\n",
    "class MyKNeighborsClassifier(NeighborsBase, KNeighborsMixin,\n",
    "                             SupervisedIntegerMixin, ClassifierMixin):\n",
    "\n",
    "    def __init__(self, n_neighbors, algorithm='brute'):\n",
    "        self.n_neighbors = n_neighbors\n",
    "        self.algorithm = algorithm\n",
    "\n",
    "    def fit(self, X, y):\n",
    "        self.X_min_max = (np.min(X), np.max(X))\n",
    "        self.X = (X-np.min(X))/(np.max(X)-np.min(X))\n",
    "        self.X_squares = (self.X**2).sum(axis=1)\n",
    "        self.y = np.array(y)\n",
    "        self.classes = np.unique(y).astype(np.int32, copy=False)\n",
    "        if self.algorithm is 'kd_tree':\n",
    "            from sklearn.neighbors import KDTree\n",
    "            self.kd_tree = KDTree(self.X)\n",
    "\n",
    "    def nearest_neighbors(self, X):\n",
    "        X = (X-self.X_min_max[0])/(self.X_min_max[1]-self.X_min_max[0])\n",
    "        if self.algorithm is 'kd_tree':\n",
    "            _, nearest_indexes = self.kd_tree.query(\n",
    "                np.array(X).astype(np.double, copy=False),\n",
    "                k=self.n_neighbors)\n",
    "        else:\n",
    "            X_squares = (X**2).sum(axis=1)\n",
    "        # KNeighborsClassifier using minkowski distance
             # with p=2=> euclidean distance
    "            distances = np.sqrt(X_squares.reshape(-1, 1)\n",
    "                                + self.X_squares - 2*np.dot(X, self.X.T))\n",
    "            nearest_indexes = np.argsort(distances)[:, :self.n_neighbors]\n",
    "        return self.y[nearest_indexes]\n",
    "\n",
    "    def predict(self, X):\n",
    "        n = self.nearest_neighbors(X).astype(np.int32, copy=False)\n",
    "        count = np.apply_along_axis(\n",
    "            lambda x: np.bincount(x).argmax().astype(np.int32, copy=False),\n",
    "            1, n)\n",
    "        return count\n",
    "\n",
    "    def predict_proba(self, X):\n",
    "        neighbors = self.nearest_neighbors(X)\n",
    "        predictions = np.zeros((X.shape[0], self.classes.size))\n",
    "        for _class in self.classes:\n",
    "            predictions[:, _class] = np.sum(_class == neighbors, axis=1)\n",
    "        predictions /= self.n_neighbors\n",
    "        return predictions\n",
    "\n",
    "    def score(self, X, y):\n",
    "        return (self.predict(X) == y).mean()"
   ]
  },
  {
   "cell_type": "markdown",
   "metadata": {},
   "source": [
    "**IRIS**"
   ]
  },
  {
   "cell_type": "code",
   "execution_count": 3,
   "metadata": {},
   "outputs": [],
   "source": [
    "iris = datasets.load_iris()"
   ]
  },
  {
   "cell_type": "code",
   "execution_count": 73,
   "metadata": {},
   "outputs": [],
   "source": [
    "X_train, X_test, y_train, y_test = train_test_split(iris.data, iris.target, test_size=0.1, stratify=iris.target)"
   ]
  },
  {
   "cell_type": "code",
   "execution_count": 74,
   "metadata": {},
   "outputs": [],
   "source": [
    "clf = KNeighborsClassifier(n_neighbors=2)\n",
    "my_clf = MyKNeighborsClassifier(n_neighbors=2)"
   ]
  },
  {
   "cell_type": "code",
   "execution_count": 75,
   "metadata": {},
   "outputs": [
    {
     "name": "stdout",
     "output_type": "stream",
     "text": [
      "Wall time: 3 ms\n"
     ]
    },
    {
     "data": {
      "text/plain": [
       "KNeighborsClassifier(algorithm='auto', leaf_size=30, metric='minkowski',\n",
       "           metric_params=None, n_jobs=1, n_neighbors=2, p=2,\n",
       "           weights='uniform')"
      ]
     },
     "execution_count": 75,
     "metadata": {},
     "output_type": "execute_result"
    }
   ],
   "source": [
    "%time clf.fit(X_train, y_train)"
   ]
  },
  {
   "cell_type": "code",
   "execution_count": 76,
   "metadata": {},
   "outputs": [
    {
     "name": "stdout",
     "output_type": "stream",
     "text": [
      "Wall time: 1e+03 µs\n"
     ]
    }
   ],
   "source": [
    "%time my_clf.fit(X_train, y_train)"
   ]
  },
  {
   "cell_type": "code",
   "execution_count": 77,
   "metadata": {},
   "outputs": [
    {
     "name": "stdout",
     "output_type": "stream",
     "text": [
      "Wall time: 6 ms\n"
     ]
    },
    {
     "data": {
      "text/plain": [
       "array([1, 0, 1, 0, 1, 2, 1, 2, 0, 0, 2, 2, 0, 1, 1])"
      ]
     },
     "execution_count": 77,
     "metadata": {},
     "output_type": "execute_result"
    }
   ],
   "source": [
    "%time clf.predict(X_test)"
   ]
  },
  {
   "cell_type": "code",
   "execution_count": 78,
   "metadata": {},
   "outputs": [
    {
     "name": "stdout",
     "output_type": "stream",
     "text": [
      "Wall time: 4 ms\n"
     ]
    },
    {
     "data": {
      "text/plain": [
       "array([1, 0, 1, 0, 1, 2, 1, 2, 0, 0, 2, 2, 0, 1, 1])"
      ]
     },
     "execution_count": 78,
     "metadata": {},
     "output_type": "execute_result"
    }
   ],
   "source": [
    "%time my_clf.predict(X_test)"
   ]
  },
  {
   "cell_type": "code",
   "execution_count": 79,
   "metadata": {},
   "outputs": [
    {
     "name": "stdout",
     "output_type": "stream",
     "text": [
      "Wall time: 1 ms\n"
     ]
    },
    {
     "data": {
      "text/plain": [
       "array([[0., 1., 0.],\n",
       "       [1., 0., 0.],\n",
       "       [0., 1., 0.],\n",
       "       [1., 0., 0.],\n",
       "       [0., 1., 0.],\n",
       "       [0., 0., 1.],\n",
       "       [0., 1., 0.],\n",
       "       [0., 0., 1.],\n",
       "       [1., 0., 0.],\n",
       "       [1., 0., 0.],\n",
       "       [0., 0., 1.],\n",
       "       [0., 0., 1.],\n",
       "       [1., 0., 0.],\n",
       "       [0., 1., 0.],\n",
       "       [0., 1., 0.]])"
      ]
     },
     "execution_count": 79,
     "metadata": {},
     "output_type": "execute_result"
    }
   ],
   "source": [
    "%time clf.predict_proba(X_test)"
   ]
  },
  {
   "cell_type": "code",
   "execution_count": 80,
   "metadata": {},
   "outputs": [
    {
     "name": "stdout",
     "output_type": "stream",
     "text": [
      "Wall time: 998 µs\n"
     ]
    },
    {
     "data": {
      "text/plain": [
       "array([[0., 1., 0.],\n",
       "       [1., 0., 0.],\n",
       "       [0., 1., 0.],\n",
       "       [1., 0., 0.],\n",
       "       [0., 1., 0.],\n",
       "       [0., 0., 1.],\n",
       "       [0., 1., 0.],\n",
       "       [0., 0., 1.],\n",
       "       [1., 0., 0.],\n",
       "       [1., 0., 0.],\n",
       "       [0., 0., 1.],\n",
       "       [0., 0., 1.],\n",
       "       [1., 0., 0.],\n",
       "       [0., 1., 0.],\n",
       "       [0., 1., 0.]])"
      ]
     },
     "execution_count": 80,
     "metadata": {},
     "output_type": "execute_result"
    }
   ],
   "source": [
    "%time my_clf.predict_proba(X_test)"
   ]
  },
  {
   "cell_type": "code",
   "execution_count": 64,
   "metadata": {},
   "outputs": [
    {
     "data": {
      "text/plain": [
       "0.9333333333333333"
      ]
     },
     "execution_count": 64,
     "metadata": {},
     "output_type": "execute_result"
    }
   ],
   "source": [
    "clf.score(X_test, y_test)"
   ]
  },
  {
   "cell_type": "code",
   "execution_count": 65,
   "metadata": {},
   "outputs": [
    {
     "data": {
      "text/plain": [
       "0.9333333333333333"
      ]
     },
     "execution_count": 65,
     "metadata": {},
     "output_type": "execute_result"
    }
   ],
   "source": [
    "my_clf.score(X_test, y_test)"
   ]
  },
  {
   "cell_type": "markdown",
   "metadata": {},
   "source": [
    "Задание 3"
   ]
  },
  {
   "cell_type": "code",
   "execution_count": 82,
   "metadata": {},
   "outputs": [],
   "source": [
    "neighbors = range(1, X_train.shape[0])\n",
    "neighbors_best = 0\n",
    "score_test = np.array([])\n",
    "max_number_of_test = 300\n",
    "for n in neighbors:\n",
    "    score = 0\n",
    "    for test in range(1, max_number_of_test):\n",
    "        X_train, X_test, y_train, y_test = train_test_split(\n",
    "                iris.data, iris.target, test_size=0.1, stratify=iris.target)\n",
    "        my_clf = MyKNeighborsClassifier(n_neighbors=n)\n",
    "        clf = KNeighborsClassifier(n_neighbors=n)\n",
    "        my_clf.fit(X_train, y_train)\n",
    "        score += my_clf.score(X_test, y_test)\n",
    "    score_test = np.append(score_test, score/max_number_of_test)\n",
    "neighbors_best = np.argmax(score_test)+1\n",
    "print(\"Best score = {0} with numbers of neighbors= {1}\".format(\n",
    "    score_test[neighbors_best-1], neighbors_best))\n",
    "plt.xlabel(\"Number of neighbors\")\n",
    "plt.ylabel(\"Score\")\n",
    "plt.plot(neighbors, score_test, label=\"Test\")\n",
    "plt.legend()"
   ]
  },
  {
   "cell_type": "markdown",
   "metadata": {},
   "source": [
    "**MNIST**"
   ]
  },
  {
   "cell_type": "code",
   "execution_count": 14,
   "metadata": {},
   "outputs": [],
   "source": [
    "mnist = fetch_mldata('MNIST original')"
   ]
  },
  {
   "cell_type": "code",
   "execution_count": 15,
   "metadata": {},
   "outputs": [],
   "source": [
    "X_train, X_test, y_train, y_test = train_test_split(mnist.data, mnist.target, test_size=0.01, stratify=mnist.target)"
   ]
  },
  {
   "cell_type": "code",
   "execution_count": 43,
   "metadata": {},
   "outputs": [],
   "source": [
    "clf = KNeighborsClassifier(n_neighbors=2)\n",
    "my_clf = MyKNeighborsClassifier(n_neighbors=2)"
   ]
  },
  {
   "cell_type": "code",
   "execution_count": 47,
   "metadata": {},
   "outputs": [
    {
     "name": "stdout",
     "output_type": "stream",
     "text": [
      "Wall time: 53 s\n"
     ]
    },
    {
     "data": {
      "text/plain": [
       "KNeighborsClassifier(algorithm='auto', leaf_size=30, metric='minkowski',\n",
       "           metric_params=None, n_jobs=1, n_neighbors=2, p=2,\n",
       "           weights='uniform')"
      ]
     },
     "execution_count": 47,
     "metadata": {},
     "output_type": "execute_result"
    }
   ],
   "source": [
    "%time clf.fit(X_train, y_train)"
   ]
  },
  {
   "cell_type": "code",
   "execution_count": 44,
   "metadata": {},
   "outputs": [
    {
     "name": "stdout",
     "output_type": "stream",
     "text": [
      "Wall time: 1.14 s\n"
     ]
    }
   ],
   "source": [
    "%time my_clf.fit(X_train, y_train)"
   ]
  },
  {
   "cell_type": "code",
   "execution_count": 50,
   "metadata": {},
   "outputs": [
    {
     "name": "stdout",
     "output_type": "stream",
     "text": [
      "Wall time: 1min 17s\n"
     ]
    },
    {
     "data": {
      "text/plain": [
       "array([1., 5., 2., 6., 5., 7., 0., 8., 0., 1., 0., 5., 7., 0., 1., 1., 4.,\n",
       "       9., 7., 8., 1., 7., 5., 6., 5., 4., 4., 3., 0., 5., 6., 4., 0., 7.,\n",
       "       8., 4., 7., 1., 4., 2., 5., 4., 5., 2., 6., 0., 1., 0., 5., 5., 5.,\n",
       "       2., 3., 1., 4., 1., 6., 8., 1., 1., 1., 5., 2., 8., 1., 6., 4., 1.,\n",
       "       1., 2., 4., 7., 9., 8., 6., 9., 2., 0., 5., 4., 3., 0., 9., 4., 0.,\n",
       "       3., 8., 6., 5., 0., 0., 1., 3., 5., 1., 3., 7., 6., 1., 4., 7., 1.,\n",
       "       5., 9., 2., 6., 1., 3., 1., 0., 0., 6., 1., 4., 5., 5., 7., 4., 3.,\n",
       "       0., 1., 8., 2., 6., 7., 6., 9., 5., 6., 0., 6., 9., 1., 8., 8., 4.,\n",
       "       9., 1., 4., 2., 6., 3., 6., 7., 8., 5., 8., 1., 4., 6., 7., 4., 1.,\n",
       "       3., 0., 6., 0., 2., 2., 2., 4., 1., 8., 9., 0., 3., 8., 4., 1., 3.,\n",
       "       3., 2., 2., 7., 7., 2., 3., 7., 3., 8., 7., 1., 3., 8., 8., 6., 4.,\n",
       "       9., 0., 9., 2., 0., 9., 8., 2., 9., 6., 9., 6., 7., 3., 2., 7., 0.,\n",
       "       6., 3., 1., 0., 3., 1., 4., 3., 2., 7., 5., 7., 9., 5., 8., 3., 1.,\n",
       "       8., 2., 6., 4., 6., 2., 7., 3., 2., 3., 1., 9., 7., 8., 3., 9., 6.,\n",
       "       1., 5., 4., 4., 7., 2., 0., 3., 4., 3., 5., 6., 7., 9., 5., 7., 9.,\n",
       "       6., 9., 7., 9., 9., 4., 0., 9., 5., 9., 4., 4., 2., 6., 8., 9., 5.,\n",
       "       2., 5., 9., 7., 8., 2., 5., 0., 1., 6., 1., 1., 7., 7., 6., 1., 1.,\n",
       "       0., 0., 1., 8., 1., 3., 8., 5., 3., 3., 0., 4., 7., 7., 2., 1., 6.,\n",
       "       2., 5., 5., 0., 3., 0., 6., 2., 3., 3., 5., 0., 1., 8., 5., 8., 7.,\n",
       "       1., 8., 8., 9., 3., 9., 4., 2., 1., 7., 9., 9., 7., 7., 0., 8., 6.,\n",
       "       4., 2., 2., 5., 3., 4., 7., 3., 1., 6., 2., 3., 0., 2., 5., 4., 2.,\n",
       "       6., 5., 5., 6., 3., 5., 1., 9., 4., 8., 9., 8., 9., 3., 3., 8., 8.,\n",
       "       7., 0., 5., 7., 0., 1., 5., 7., 0., 0., 7., 2., 9., 3., 0., 9., 8.,\n",
       "       0., 2., 2., 1., 2., 7., 9., 3., 2., 0., 9., 6., 9., 6., 6., 9., 3.,\n",
       "       6., 7., 9., 8., 3., 3., 9., 1., 7., 2., 6., 7., 7., 0., 2., 0., 9.,\n",
       "       0., 8., 4., 6., 4., 1., 7., 2., 1., 3., 6., 3., 2., 8., 9., 1., 1.,\n",
       "       5., 3., 9., 2., 6., 1., 2., 0., 8., 8., 0., 6., 3., 1., 9., 1., 1.,\n",
       "       9., 9., 6., 6., 0., 9., 3., 2., 5., 8., 4., 2., 0., 9., 1., 7., 5.,\n",
       "       9., 3., 3., 4., 2., 9., 8., 2., 3., 3., 1., 5., 9., 6., 1., 9., 8.,\n",
       "       3., 0., 1., 4., 4., 0., 7., 7., 3., 6., 1., 7., 2., 6., 7., 5., 0.,\n",
       "       2., 7., 6., 6., 7., 5., 0., 4., 8., 0., 9., 2., 9., 2., 2., 5., 8.,\n",
       "       1., 7., 3., 7., 2., 8., 6., 5., 2., 3., 3., 5., 4., 4., 7., 5., 4.,\n",
       "       6., 3., 2., 4., 1., 5., 6., 5., 0., 3., 5., 3., 5., 5., 3., 5., 9.,\n",
       "       3., 5., 9., 3., 0., 2., 7., 5., 7., 0., 3., 1., 1., 8., 4., 3., 4.,\n",
       "       5., 8., 0., 6., 8., 0., 1., 7., 7., 8., 7., 0., 1., 8., 4., 4., 9.,\n",
       "       8., 3., 8., 3., 1., 1., 7., 6., 8., 7., 4., 3., 6., 5., 0., 4., 1.,\n",
       "       0., 6., 1., 1., 3., 1., 4., 7., 1., 8., 7., 4., 9., 4., 8., 7., 6.,\n",
       "       9., 5., 6., 8., 8., 1., 7., 4., 2., 0., 3., 3., 9., 8., 5., 4., 6.,\n",
       "       6., 9., 1., 9., 4., 4., 9., 7., 6., 7., 6., 6., 7., 0., 4., 4., 9.,\n",
       "       0., 8., 9., 7., 7., 5., 0., 6., 4., 2., 9., 8., 2., 1., 4., 7., 2.,\n",
       "       1., 2., 0., 7., 9., 6., 0., 2., 7., 2., 4., 8., 5., 5., 0., 8., 8.,\n",
       "       1., 8., 5.])"
      ]
     },
     "execution_count": 50,
     "metadata": {},
     "output_type": "execute_result"
    }
   ],
   "source": [
    "%time clf.predict(X_test)"
   ]
  },
  {
   "cell_type": "code",
   "execution_count": 51,
   "metadata": {},
   "outputs": [
    {
     "name": "stdout",
     "output_type": "stream",
     "text": [
      "Wall time: 9.32 s\n"
     ]
    },
    {
     "data": {
      "text/plain": [
       "array([1, 5, 2, 6, 5, 7, 0, 8, 0, 1, 0, 5, 7, 0, 1, 1, 4, 9, 7, 8, 1, 7,\n",
       "       5, 6, 5, 4, 4, 3, 0, 5, 6, 4, 0, 7, 8, 4, 7, 1, 4, 2, 5, 4, 5, 2,\n",
       "       6, 0, 1, 0, 5, 5, 5, 2, 3, 1, 4, 1, 6, 8, 1, 1, 1, 5, 2, 8, 1, 6,\n",
       "       4, 1, 1, 2, 4, 7, 9, 8, 6, 9, 2, 0, 5, 4, 3, 0, 9, 4, 0, 3, 8, 6,\n",
       "       5, 0, 0, 1, 3, 5, 1, 3, 7, 6, 1, 4, 7, 1, 5, 9, 2, 6, 1, 3, 1, 0,\n",
       "       0, 6, 1, 4, 5, 5, 7, 4, 3, 0, 1, 8, 2, 6, 7, 6, 9, 5, 6, 0, 6, 9,\n",
       "       1, 8, 8, 4, 9, 1, 4, 2, 6, 3, 6, 7, 8, 5, 8, 1, 4, 6, 7, 4, 1, 3,\n",
       "       0, 6, 0, 2, 2, 2, 4, 1, 8, 9, 0, 3, 8, 4, 1, 3, 3, 2, 2, 7, 7, 2,\n",
       "       3, 7, 3, 8, 7, 1, 3, 8, 8, 6, 4, 9, 0, 9, 2, 0, 9, 8, 2, 9, 6, 9,\n",
       "       6, 7, 3, 2, 7, 0, 6, 3, 1, 0, 3, 1, 4, 3, 2, 7, 5, 7, 9, 5, 8, 3,\n",
       "       1, 8, 2, 6, 4, 6, 2, 7, 3, 2, 3, 1, 9, 7, 8, 3, 9, 6, 1, 5, 4, 4,\n",
       "       7, 2, 0, 3, 4, 3, 5, 6, 7, 9, 5, 7, 9, 6, 9, 7, 9, 9, 4, 0, 9, 5,\n",
       "       9, 4, 4, 2, 6, 8, 9, 5, 2, 5, 9, 7, 8, 2, 5, 0, 1, 6, 1, 1, 7, 7,\n",
       "       6, 1, 1, 0, 0, 1, 8, 1, 3, 8, 5, 3, 3, 0, 4, 7, 7, 2, 1, 6, 2, 5,\n",
       "       5, 0, 3, 0, 6, 2, 3, 3, 5, 0, 1, 8, 5, 8, 7, 1, 8, 8, 9, 3, 9, 4,\n",
       "       2, 1, 7, 9, 9, 7, 7, 0, 8, 6, 4, 2, 2, 5, 3, 4, 7, 3, 1, 6, 2, 3,\n",
       "       0, 2, 5, 4, 2, 6, 5, 5, 6, 3, 5, 1, 9, 4, 8, 9, 8, 9, 3, 3, 8, 8,\n",
       "       7, 0, 5, 7, 0, 1, 5, 7, 0, 0, 7, 2, 9, 3, 0, 9, 8, 0, 2, 2, 1, 2,\n",
       "       7, 9, 3, 2, 0, 9, 6, 9, 6, 6, 9, 3, 6, 7, 9, 8, 3, 3, 9, 1, 7, 2,\n",
       "       6, 7, 7, 0, 2, 0, 9, 0, 8, 4, 6, 4, 1, 7, 2, 1, 3, 6, 3, 2, 8, 9,\n",
       "       1, 1, 5, 3, 9, 2, 6, 1, 2, 0, 8, 8, 0, 6, 3, 1, 9, 1, 1, 9, 9, 6,\n",
       "       6, 0, 9, 3, 2, 5, 8, 4, 2, 0, 9, 1, 7, 5, 9, 3, 3, 4, 2, 9, 8, 2,\n",
       "       3, 3, 1, 5, 9, 6, 1, 9, 8, 3, 0, 1, 4, 4, 0, 7, 7, 3, 6, 1, 7, 2,\n",
       "       6, 7, 5, 0, 2, 7, 6, 6, 7, 5, 0, 4, 8, 0, 9, 2, 9, 2, 2, 5, 8, 1,\n",
       "       7, 3, 7, 2, 8, 6, 5, 2, 3, 3, 5, 4, 4, 7, 5, 4, 6, 3, 2, 4, 1, 5,\n",
       "       6, 5, 0, 3, 5, 3, 5, 5, 3, 5, 9, 3, 5, 9, 3, 0, 2, 7, 5, 7, 0, 3,\n",
       "       1, 1, 8, 4, 3, 4, 5, 8, 0, 6, 8, 0, 1, 7, 7, 8, 7, 0, 1, 8, 4, 4,\n",
       "       9, 8, 3, 8, 3, 1, 1, 7, 6, 8, 7, 4, 3, 6, 5, 0, 4, 1, 0, 6, 1, 1,\n",
       "       3, 1, 4, 7, 1, 8, 7, 4, 9, 4, 8, 7, 6, 9, 5, 6, 8, 8, 1, 7, 4, 2,\n",
       "       0, 3, 3, 9, 8, 5, 4, 6, 6, 9, 1, 9, 4, 4, 9, 7, 6, 7, 6, 6, 7, 0,\n",
       "       4, 4, 9, 0, 8, 9, 7, 7, 5, 0, 6, 4, 2, 9, 8, 2, 1, 4, 7, 2, 1, 2,\n",
       "       0, 7, 9, 6, 0, 2, 7, 2, 4, 8, 5, 5, 0, 8, 8, 1, 8, 5])"
      ]
     },
     "execution_count": 51,
     "metadata": {},
     "output_type": "execute_result"
    }
   ],
   "source": [
    "%time my_clf.predict(X_test)"
   ]
  },
  {
   "cell_type": "code",
   "execution_count": 52,
   "metadata": {
    "scrolled": true
   },
   "outputs": [
    {
     "name": "stdout",
     "output_type": "stream",
     "text": [
      "Wall time: 1min 8s\n"
     ]
    },
    {
     "data": {
      "text/plain": [
       "array([[0., 1., 0., ..., 0., 0., 0.],\n",
       "       [0., 0., 0., ..., 0., 0., 0.],\n",
       "       [0., 0., 1., ..., 0., 0., 0.],\n",
       "       ...,\n",
       "       [0., 1., 0., ..., 0., 0., 0.],\n",
       "       [0., 0., 0., ..., 0., 1., 0.],\n",
       "       [0., 0., 0., ..., 0., 0., 0.]])"
      ]
     },
     "execution_count": 52,
     "metadata": {},
     "output_type": "execute_result"
    }
   ],
   "source": [
    "%time clf.predict_proba(X_test)"
   ]
  },
  {
   "cell_type": "code",
   "execution_count": 53,
   "metadata": {},
   "outputs": [
    {
     "name": "stdout",
     "output_type": "stream",
     "text": [
      "Wall time: 7.84 s\n"
     ]
    },
    {
     "data": {
      "text/plain": [
       "array([[0., 1., 0., ..., 0., 0., 0.],\n",
       "       [0., 0., 0., ..., 0., 0., 0.],\n",
       "       [0., 0., 1., ..., 0., 0., 0.],\n",
       "       ...,\n",
       "       [0., 1., 0., ..., 0., 0., 0.],\n",
       "       [0., 0., 0., ..., 0., 1., 0.],\n",
       "       [0., 0., 0., ..., 0., 0., 0.]])"
      ]
     },
     "execution_count": 53,
     "metadata": {},
     "output_type": "execute_result"
    }
   ],
   "source": [
    "%time my_clf.predict_proba(X_test)"
   ]
  },
  {
   "cell_type": "code",
   "execution_count": 54,
   "metadata": {},
   "outputs": [
    {
     "data": {
      "text/plain": [
       "0.9728571428571429"
      ]
     },
     "execution_count": 54,
     "metadata": {},
     "output_type": "execute_result"
    }
   ],
   "source": [
    "clf.score(X_test, y_test)"
   ]
  },
  {
   "cell_type": "code",
   "execution_count": 55,
   "metadata": {},
   "outputs": [
    {
     "data": {
      "text/plain": [
       "0.9728571428571429"
      ]
     },
     "execution_count": 55,
     "metadata": {},
     "output_type": "execute_result"
    }
   ],
   "source": [
    "my_clf.score(X_test, y_test)"
   ]
  },
  {
   "cell_type": "markdown",
   "metadata": {},
   "source": [
    "Задание 4"
   ]
  },
  {
   "cell_type": "code",
   "execution_count": 96,
   "metadata": {},
   "outputs": [],
   "source": [
    "clf = KNeighborsClassifier(n_neighbors=2, algorithm='kd_tree')\n",
    "my_clf = MyKNeighborsClassifier(n_neighbors=2, algorithm='kd_tree')"
   ]
  },
  {
   "cell_type": "code",
   "execution_count": 92,
   "metadata": {},
   "outputs": [],
   "source": [
    "X_train, X_test, y_train, y_test = train_test_split(mnist.data, mnist.target, test_size=0.01, stratify=mnist.target)"
   ]
  },
  {
   "cell_type": "code",
   "execution_count": 99,
   "metadata": {},
   "outputs": [
    {
     "name": "stdout",
     "output_type": "stream",
     "text": [
      "Wall time: 53.6 s\n"
     ]
    },
    {
     "data": {
      "text/plain": [
       "KNeighborsClassifier(algorithm='kd_tree', leaf_size=30, metric='minkowski',\n",
       "           metric_params=None, n_jobs=1, n_neighbors=2, p=2,\n",
       "           weights='uniform')"
      ]
     },
     "execution_count": 99,
     "metadata": {},
     "output_type": "execute_result"
    }
   ],
   "source": [
    "%time clf.fit(X_train, y_train)"
   ]
  },
  {
   "cell_type": "code",
   "execution_count": 100,
   "metadata": {},
   "outputs": [
    {
     "name": "stdout",
     "output_type": "stream",
     "text": [
      "Wall time: 59.6 s\n"
     ]
    }
   ],
   "source": [
    "%time my_clf.fit(X_train, y_train)"
   ]
  },
  {
   "cell_type": "code",
   "execution_count": 101,
   "metadata": {},
   "outputs": [
    {
     "name": "stdout",
     "output_type": "stream",
     "text": [
      "Wall time: 1min 8s\n"
     ]
    },
    {
     "data": {
      "text/plain": [
       "array([6., 5., 6., 6., 8., 5., 4., 0., 6., 7., 4., 8., 3., 5., 0., 4., 1.,\n",
       "       8., 1., 6., 4., 8., 5., 7., 4., 5., 9., 5., 8., 7., 7., 2., 9., 0.,\n",
       "       0., 9., 5., 6., 9., 7., 9., 7., 6., 1., 2., 8., 6., 9., 0., 1., 0.,\n",
       "       6., 3., 5., 8., 0., 3., 3., 8., 4., 8., 1., 6., 9., 9., 7., 1., 4.,\n",
       "       4., 6., 9., 0., 7., 4., 9., 6., 5., 4., 6., 0., 3., 3., 1., 9., 9.,\n",
       "       7., 5., 3., 4., 6., 4., 0., 1., 5., 3., 3., 8., 5., 4., 8., 0., 2.,\n",
       "       3., 3., 1., 7., 5., 1., 7., 1., 4., 4., 1., 6., 2., 6., 1., 6., 2.,\n",
       "       3., 0., 2., 7., 9., 1., 6., 6., 1., 7., 6., 1., 9., 5., 6., 7., 0.,\n",
       "       0., 2., 0., 1., 9., 7., 1., 2., 1., 3., 5., 0., 9., 8., 9., 8., 8.,\n",
       "       5., 5., 6., 7., 2., 1., 1., 2., 2., 4., 1., 1., 8., 7., 9., 9., 3.,\n",
       "       1., 0., 7., 4., 3., 1., 0., 4., 1., 3., 3., 8., 2., 7., 0., 2., 7.,\n",
       "       6., 3., 7., 6., 7., 2., 6., 4., 6., 2., 1., 2., 9., 2., 8., 0., 9.,\n",
       "       8., 3., 1., 5., 0., 0., 7., 6., 8., 3., 7., 2., 1., 3., 3., 8., 3.,\n",
       "       1., 1., 6., 2., 3., 2., 1., 9., 7., 4., 9., 0., 0., 4., 3., 1., 5.,\n",
       "       0., 7., 7., 5., 5., 2., 7., 6., 5., 5., 3., 0., 0., 5., 5., 5., 4.,\n",
       "       3., 5., 2., 2., 7., 1., 6., 1., 3., 7., 1., 2., 4., 7., 4., 3., 1.,\n",
       "       8., 0., 4., 1., 8., 1., 4., 2., 4., 2., 3., 1., 1., 2., 9., 2., 7.,\n",
       "       5., 5., 0., 8., 8., 9., 1., 6., 9., 4., 8., 4., 8., 1., 3., 0., 4.,\n",
       "       7., 2., 4., 8., 0., 9., 8., 3., 1., 3., 9., 9., 6., 4., 7., 5., 9.,\n",
       "       1., 1., 5., 2., 8., 3., 7., 2., 4., 5., 3., 1., 3., 7., 8., 0., 8.,\n",
       "       8., 6., 0., 8., 7., 7., 6., 5., 8., 0., 1., 6., 0., 9., 2., 2., 0.,\n",
       "       4., 7., 1., 3., 6., 4., 6., 0., 2., 2., 5., 7., 7., 0., 7., 6., 5.,\n",
       "       0., 9., 7., 3., 7., 1., 8., 5., 3., 0., 9., 5., 1., 5., 3., 7., 6.,\n",
       "       4., 0., 3., 4., 4., 1., 0., 8., 9., 0., 6., 7., 1., 6., 9., 7., 6.,\n",
       "       5., 1., 4., 3., 6., 4., 6., 1., 4., 9., 5., 7., 1., 4., 6., 6., 0.,\n",
       "       4., 8., 9., 6., 6., 6., 2., 1., 7., 4., 8., 5., 1., 5., 0., 2., 5.,\n",
       "       9., 9., 2., 3., 4., 2., 6., 3., 4., 0., 2., 3., 6., 7., 5., 3., 5.,\n",
       "       9., 6., 3., 2., 0., 9., 8., 9., 4., 2., 3., 3., 4., 2., 7., 2., 0.,\n",
       "       0., 4., 5., 8., 7., 4., 3., 6., 7., 6., 2., 9., 2., 1., 2., 9., 3.,\n",
       "       3., 9., 0., 1., 2., 4., 3., 0., 0., 3., 7., 1., 8., 0., 6., 1., 0.,\n",
       "       7., 9., 2., 7., 1., 8., 4., 2., 9., 6., 9., 6., 8., 9., 9., 9., 8.,\n",
       "       7., 5., 3., 4., 2., 9., 4., 2., 2., 3., 3., 0., 6., 0., 4., 0., 2.,\n",
       "       7., 0., 4., 9., 3., 5., 3., 7., 2., 6., 1., 7., 5., 5., 1., 8., 9.,\n",
       "       3., 9., 4., 2., 0., 2., 7., 1., 4., 1., 4., 7., 2., 5., 5., 8., 2.,\n",
       "       6., 7., 1., 6., 1., 5., 9., 3., 9., 8., 9., 3., 4., 6., 2., 5., 5.,\n",
       "       8., 2., 4., 9., 8., 4., 1., 7., 7., 7., 8., 2., 6., 1., 1., 8., 1.,\n",
       "       0., 0., 0., 2., 9., 0., 0., 0., 1., 1., 4., 9., 7., 8., 0., 1., 0.,\n",
       "       5., 6., 5., 6., 8., 3., 3., 9., 2., 8., 7., 3., 0., 7., 8., 9., 0.,\n",
       "       4., 7., 8., 4., 7., 5., 7., 0., 8., 6., 0., 2., 3., 0., 5., 1., 3.,\n",
       "       2., 4., 5., 9., 6., 8., 8., 3., 3., 9., 8., 0., 5., 4., 3., 0., 6.,\n",
       "       1., 7., 3., 3., 9., 8., 8., 5., 4., 7., 1., 1., 2., 3., 9., 7., 1.,\n",
       "       4., 5., 3.])"
      ]
     },
     "execution_count": 101,
     "metadata": {},
     "output_type": "execute_result"
    }
   ],
   "source": [
    "%time clf.predict(X_test)"
   ]
  },
  {
   "cell_type": "code",
   "execution_count": 102,
   "metadata": {},
   "outputs": [
    {
     "name": "stdout",
     "output_type": "stream",
     "text": [
      "Wall time: 54.9 s\n"
     ]
    },
    {
     "data": {
      "text/plain": [
       "array([6, 5, 6, 6, 8, 5, 4, 0, 6, 7, 4, 8, 3, 5, 0, 4, 1, 8, 1, 6, 4, 8,\n",
       "       5, 7, 4, 5, 9, 5, 8, 7, 7, 2, 9, 0, 0, 9, 5, 6, 9, 7, 9, 7, 6, 1,\n",
       "       2, 8, 6, 9, 0, 1, 0, 6, 3, 5, 8, 0, 3, 3, 8, 4, 8, 1, 6, 9, 9, 7,\n",
       "       1, 4, 4, 6, 9, 0, 7, 4, 9, 6, 5, 4, 6, 0, 3, 3, 1, 9, 9, 7, 5, 3,\n",
       "       4, 6, 4, 0, 1, 5, 3, 3, 8, 5, 4, 8, 0, 2, 3, 3, 1, 7, 5, 1, 7, 1,\n",
       "       4, 4, 1, 6, 2, 6, 1, 6, 2, 3, 0, 2, 7, 9, 1, 6, 6, 1, 7, 6, 1, 9,\n",
       "       5, 6, 7, 0, 0, 2, 0, 1, 9, 7, 1, 2, 1, 3, 5, 0, 9, 8, 9, 8, 8, 5,\n",
       "       5, 6, 7, 2, 1, 1, 2, 2, 4, 1, 1, 8, 7, 9, 9, 3, 1, 0, 7, 4, 3, 1,\n",
       "       0, 4, 1, 3, 3, 8, 2, 7, 0, 2, 7, 6, 3, 7, 6, 7, 2, 6, 4, 6, 2, 1,\n",
       "       2, 9, 2, 8, 0, 9, 8, 3, 1, 5, 0, 0, 7, 6, 8, 3, 7, 2, 1, 3, 3, 8,\n",
       "       3, 1, 1, 6, 2, 3, 2, 1, 9, 7, 4, 9, 0, 0, 4, 3, 1, 5, 0, 7, 7, 5,\n",
       "       5, 2, 7, 6, 5, 5, 3, 0, 0, 5, 5, 5, 4, 3, 5, 2, 2, 7, 1, 6, 1, 3,\n",
       "       7, 1, 2, 4, 7, 4, 3, 1, 8, 0, 4, 1, 8, 1, 4, 2, 4, 2, 3, 1, 1, 2,\n",
       "       9, 2, 7, 5, 5, 0, 8, 8, 9, 1, 6, 9, 4, 8, 4, 8, 1, 3, 0, 4, 7, 2,\n",
       "       4, 8, 0, 9, 8, 3, 1, 3, 9, 9, 6, 4, 7, 5, 9, 1, 1, 5, 2, 8, 3, 7,\n",
       "       2, 4, 5, 3, 1, 3, 7, 8, 0, 8, 8, 6, 0, 8, 7, 7, 6, 5, 8, 0, 1, 6,\n",
       "       0, 9, 2, 2, 0, 4, 7, 1, 3, 6, 4, 6, 0, 2, 2, 5, 7, 7, 0, 7, 6, 5,\n",
       "       0, 9, 7, 3, 7, 1, 8, 5, 3, 0, 9, 5, 1, 5, 3, 7, 6, 4, 0, 3, 4, 4,\n",
       "       1, 0, 8, 9, 0, 6, 7, 1, 6, 9, 7, 6, 5, 1, 4, 3, 6, 4, 6, 1, 4, 9,\n",
       "       5, 7, 1, 4, 6, 6, 0, 4, 8, 9, 6, 6, 6, 2, 1, 7, 4, 8, 5, 1, 5, 0,\n",
       "       2, 5, 9, 9, 2, 3, 4, 2, 6, 3, 4, 0, 2, 3, 6, 7, 5, 3, 5, 9, 6, 3,\n",
       "       2, 0, 9, 8, 9, 4, 2, 3, 3, 4, 2, 7, 2, 0, 0, 4, 5, 8, 7, 4, 3, 6,\n",
       "       7, 6, 2, 9, 2, 1, 2, 9, 3, 3, 9, 0, 1, 2, 4, 3, 0, 0, 3, 7, 1, 8,\n",
       "       0, 6, 1, 0, 7, 9, 2, 7, 1, 8, 4, 2, 9, 6, 9, 6, 8, 9, 9, 9, 8, 7,\n",
       "       5, 3, 4, 2, 9, 4, 2, 2, 3, 3, 0, 6, 0, 4, 0, 2, 7, 0, 4, 9, 3, 5,\n",
       "       3, 7, 2, 6, 1, 7, 5, 5, 1, 8, 9, 3, 9, 4, 2, 0, 2, 7, 1, 4, 1, 4,\n",
       "       7, 2, 5, 5, 8, 2, 6, 7, 1, 6, 1, 5, 9, 3, 9, 8, 9, 3, 4, 6, 2, 5,\n",
       "       5, 8, 2, 4, 9, 8, 4, 1, 7, 7, 7, 8, 2, 6, 1, 1, 8, 1, 0, 0, 0, 2,\n",
       "       9, 0, 0, 0, 1, 1, 4, 9, 7, 8, 0, 1, 0, 5, 6, 5, 6, 8, 3, 3, 9, 2,\n",
       "       8, 7, 3, 0, 7, 8, 9, 0, 4, 7, 8, 4, 7, 5, 7, 0, 8, 6, 0, 2, 3, 0,\n",
       "       5, 1, 3, 2, 4, 5, 9, 6, 8, 8, 3, 3, 9, 8, 0, 5, 4, 3, 0, 6, 1, 7,\n",
       "       3, 3, 9, 8, 8, 5, 4, 7, 1, 1, 2, 3, 9, 7, 1, 4, 5, 3])"
      ]
     },
     "execution_count": 102,
     "metadata": {},
     "output_type": "execute_result"
    }
   ],
   "source": [
    "%time my_clf.predict(X_test)"
   ]
  },
  {
   "cell_type": "code",
   "execution_count": 103,
   "metadata": {},
   "outputs": [
    {
     "name": "stdout",
     "output_type": "stream",
     "text": [
      "Wall time: 1min 9s\n"
     ]
    },
    {
     "data": {
      "text/plain": [
       "array([[0., 0., 0., ..., 0., 0., 0.],\n",
       "       [0., 0., 0., ..., 0., 0., 0.],\n",
       "       [0., 0., 0., ..., 0., 0., 0.],\n",
       "       ...,\n",
       "       [0., 0., 0., ..., 0., 0., 0.],\n",
       "       [0., 0., 0., ..., 0., 0., 0.],\n",
       "       [0., 0., 0., ..., 0., 0., 0.]])"
      ]
     },
     "execution_count": 103,
     "metadata": {},
     "output_type": "execute_result"
    }
   ],
   "source": [
    "%time clf.predict_proba(X_test)"
   ]
  },
  {
   "cell_type": "code",
   "execution_count": 104,
   "metadata": {},
   "outputs": [
    {
     "name": "stdout",
     "output_type": "stream",
     "text": [
      "Wall time: 54.4 s\n"
     ]
    },
    {
     "data": {
      "text/plain": [
       "array([[0., 0., 0., ..., 0., 0., 0.],\n",
       "       [0., 0., 0., ..., 0., 0., 0.],\n",
       "       [0., 0., 0., ..., 0., 0., 0.],\n",
       "       ...,\n",
       "       [0., 0., 0., ..., 0., 0., 0.],\n",
       "       [0., 0., 0., ..., 0., 0., 0.],\n",
       "       [0., 0., 0., ..., 0., 0., 0.]])"
      ]
     },
     "execution_count": 104,
     "metadata": {},
     "output_type": "execute_result"
    }
   ],
   "source": [
    "%time my_clf.predict_proba(X_test)"
   ]
  },
  {
   "cell_type": "code",
   "execution_count": 105,
   "metadata": {},
   "outputs": [
    {
     "data": {
      "text/plain": [
       "0.9714285714285714"
      ]
     },
     "execution_count": 105,
     "metadata": {},
     "output_type": "execute_result"
    }
   ],
   "source": [
    "clf.score(X_test, y_test)"
   ]
  },
  {
   "cell_type": "code",
   "execution_count": 106,
   "metadata": {},
   "outputs": [
    {
     "data": {
      "text/plain": [
       "0.9714285714285714"
      ]
     },
     "execution_count": 106,
     "metadata": {},
     "output_type": "execute_result"
    }
   ],
   "source": [
    "my_clf.score(X_test, y_test)"
   ]
  },
  {
   "cell_type": "markdown",
   "metadata": {},
   "source": [
    "Задание 5"
   ]
  },
  {
   "cell_type": "code",
   "execution_count": null,
   "metadata": {},
   "outputs": [],
   "source": [
    "# seaborn - библиотека, основанная на matplotlib, упрщающая визализацию данных\n",
    "# matplotlib - библиотека для визуализации данных\n",
    "# train_test_split - функция для разделения данных на тестовую и обучающую выборки\n",
    "# Pipelin%load_ext e (from sklearn.pipeline import Pipeline) - позволяет последовательно \n",
    "#трансформировать данные \n",
    "# StandardScaler (from sklearn.preprocessing import StandardScaler) - функция, приводящая данные к виду:\n",
    "# среднее = 0, дисперсия =1\n",
    "# ClassifierMixin -  в библиотеке sklearn является базовый классом для всех классификаторов.\n",
    "# NeighborsBase - в библиотеке sklearn является базовым классом для всех алгоритмов \"ближайших соседей\",\n",
    "# содержит базовую функциональность метода fit\n",
    "# KNeighborsMixin - является базовым классом для алгоритма kNN, в нем определены методы для поиска \n",
    "#ближайших соседей\n",
    "# SupervisedIntegerMixin - в библиотеке sklearn является базовым классом для kNN классификатора,\n",
    "# содержит метод fit"
   ]
  }
 ],
 "metadata": {
  "kernelspec": {
   "display_name": "Python 3",
   "language": "python",
   "name": "python3"
  },
  "language_info": {
   "codemirror_mode": {
    "name": "ipython",
    "version": 3
   },
   "file_extension": ".py",
   "mimetype": "text/x-python",
   "name": "python",
   "nbconvert_exporter": "python",
   "pygments_lexer": "ipython3",
   "version": "3.7.0"
  }
 },
 "nbformat": 4,
 "nbformat_minor": 2
}
